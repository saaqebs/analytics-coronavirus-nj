{
 "cells": [
  {
   "cell_type": "markdown",
   "metadata": {},
   "source": [
    "# NJ COVID-19 Case Analysis\n",
    "\n",
    "An analysis on the number of coronivirus cases per municipality in New Jersey.\n",
    "\n",
    "This utilizes the historical NJ Covid-19 case data from March 25, 2020 - Present collected into [this repository](https://github.com/saaqebs/covid19-newjersey). Another dataset about basic statistical information of NJ municipalities which was scraped from a [Wikipedia Article](https://en.wikipedia.org/wiki/List_of_municipalities_in_New_Jersey) that is stored in a file named `municipal.csv`."
   ]
  },
  {
   "cell_type": "code",
   "execution_count": 1,
   "metadata": {},
   "outputs": [],
   "source": [
    "from urllib import request, response, error\n",
    "from matplotlib import pyplot as plt\n",
    "from collections import Counter\n",
    "import pandas as pd\n",
    "import numpy as np\n",
    "import json"
   ]
  },
  {
   "cell_type": "markdown",
   "metadata": {},
   "source": [
    "Functions for grabbing the data from their respective sources into a a `pandas` dataframe or dictionary."
   ]
  },
  {
   "cell_type": "code",
   "execution_count": 2,
   "metadata": {},
   "outputs": [],
   "source": [
    "def get_historical_covid_data():\n",
    "    url = 'https://raw.githubusercontent.com/saaqebs/covid19-newjersey/master/nj_total.csv'\n",
    "    df_historical = pd.read_csv(url)\n",
    "    date_nicer = lambda x: x.replace('-2020','').replace('-',' ').capitalize()\n",
    "    df_historical['Date'] = df_historical['Date'].map(date_nicer)\n",
    "    df_historical = df_historical.set_index('Date')\n",
    "    return df_historical"
   ]
  },
  {
   "cell_type": "code",
   "execution_count": 3,
   "metadata": {},
   "outputs": [],
   "source": [
    "def get_today_covid_data():\n",
    "    url = 'https://raw.githubusercontent.com/saaqebs/covid19-newjersey/master/nj_today.json'\n",
    "    response = request.urlopen(url)\n",
    "    todays_data = json.loads(response.read())['data']\n",
    "    return todays_data"
   ]
  },
  {
   "cell_type": "code",
   "execution_count": 4,
   "metadata": {},
   "outputs": [],
   "source": [
    "def get_municipal_data():\n",
    "    df_municipal = pd.read_csv('data/municipal.csv')\n",
    "    return df_municipal.set_index('Municipal')"
   ]
  },
  {
   "cell_type": "markdown",
   "metadata": {},
   "source": [
    "Using the functions to get the data."
   ]
  },
  {
   "cell_type": "code",
   "execution_count": 5,
   "metadata": {},
   "outputs": [],
   "source": [
    "todays_covid_data = get_today_covid_data()\n",
    "todays_data_counter = Counter(todays_covid_data)"
   ]
  },
  {
   "cell_type": "code",
   "execution_count": 6,
   "metadata": {},
   "outputs": [],
   "source": [
    "df_historical = get_historical_covid_data()\n",
    "df_municipal = get_municipal_data()"
   ]
  },
  {
   "cell_type": "markdown",
   "metadata": {},
   "source": [
    "A brief overview of what the data looks like."
   ]
  },
  {
   "cell_type": "code",
   "execution_count": 7,
   "metadata": {},
   "outputs": [
    {
     "name": "stdout",
     "output_type": "stream",
     "text": [
      "Top 5 NJ municipalities with highest number of COVID-19 cases:\n",
      "Newark : 5805\n",
      "Paterson : 5536\n",
      "Jersey City : 5517\n",
      "Elizabeth : 4007\n",
      "Passaic : 2504\n"
     ]
    }
   ],
   "source": [
    "print('Top 5 NJ municipalities with highest number of COVID-19 cases:')\n",
    "for town,num in todays_data_counter.most_common(5):\n",
    "    print('{} : {}'.format(town.title(),num))"
   ]
  },
  {
   "cell_type": "code",
   "execution_count": 8,
   "metadata": {},
   "outputs": [
    {
     "data": {
      "text/html": [
       "<div>\n",
       "<style scoped>\n",
       "    .dataframe tbody tr th:only-of-type {\n",
       "        vertical-align: middle;\n",
       "    }\n",
       "\n",
       "    .dataframe tbody tr th {\n",
       "        vertical-align: top;\n",
       "    }\n",
       "\n",
       "    .dataframe thead th {\n",
       "        text-align: right;\n",
       "    }\n",
       "</style>\n",
       "<table border=\"1\" class=\"dataframe\">\n",
       "  <thead>\n",
       "    <tr style=\"text-align: right;\">\n",
       "      <th></th>\n",
       "      <th>Municipal</th>\n",
       "      <th>Cases</th>\n",
       "    </tr>\n",
       "    <tr>\n",
       "      <th>Date</th>\n",
       "      <th></th>\n",
       "      <th></th>\n",
       "    </tr>\n",
       "  </thead>\n",
       "  <tbody>\n",
       "    <tr>\n",
       "      <th>May 3</th>\n",
       "      <td>oxford township</td>\n",
       "      <td>6</td>\n",
       "    </tr>\n",
       "    <tr>\n",
       "      <th>May 3</th>\n",
       "      <td>phillipsburg</td>\n",
       "      <td>107</td>\n",
       "    </tr>\n",
       "    <tr>\n",
       "      <th>May 3</th>\n",
       "      <td>pohatcong township</td>\n",
       "      <td>20</td>\n",
       "    </tr>\n",
       "    <tr>\n",
       "      <th>May 3</th>\n",
       "      <td>washington</td>\n",
       "      <td>42</td>\n",
       "    </tr>\n",
       "    <tr>\n",
       "      <th>May 3</th>\n",
       "      <td>white township</td>\n",
       "      <td>49</td>\n",
       "    </tr>\n",
       "  </tbody>\n",
       "</table>\n",
       "</div>"
      ],
      "text/plain": [
       "                Municipal  Cases\n",
       "Date                            \n",
       "May 3     oxford township      6\n",
       "May 3        phillipsburg    107\n",
       "May 3  pohatcong township     20\n",
       "May 3          washington     42\n",
       "May 3      white township     49"
      ]
     },
     "execution_count": 8,
     "metadata": {},
     "output_type": "execute_result"
    }
   ],
   "source": [
    "# Latest 5 days recorded COVID-19 data in New Jersey\n",
    "df_historical.tail()"
   ]
  },
  {
   "cell_type": "code",
   "execution_count": 9,
   "metadata": {},
   "outputs": [
    {
     "data": {
      "text/html": [
       "<div>\n",
       "<style scoped>\n",
       "    .dataframe tbody tr th:only-of-type {\n",
       "        vertical-align: middle;\n",
       "    }\n",
       "\n",
       "    .dataframe tbody tr th {\n",
       "        vertical-align: top;\n",
       "    }\n",
       "\n",
       "    .dataframe thead th {\n",
       "        text-align: right;\n",
       "    }\n",
       "</style>\n",
       "<table border=\"1\" class=\"dataframe\">\n",
       "  <thead>\n",
       "    <tr style=\"text-align: right;\">\n",
       "      <th></th>\n",
       "      <th>County</th>\n",
       "      <th>Population</th>\n",
       "      <th>Type</th>\n",
       "    </tr>\n",
       "    <tr>\n",
       "      <th>Municipal</th>\n",
       "      <th></th>\n",
       "      <th></th>\n",
       "      <th></th>\n",
       "    </tr>\n",
       "  </thead>\n",
       "  <tbody>\n",
       "    <tr>\n",
       "      <th>newark</th>\n",
       "      <td>essex</td>\n",
       "      <td>285154</td>\n",
       "      <td>city</td>\n",
       "    </tr>\n",
       "    <tr>\n",
       "      <th>jersey city</th>\n",
       "      <td>hudson</td>\n",
       "      <td>270753</td>\n",
       "      <td>city</td>\n",
       "    </tr>\n",
       "    <tr>\n",
       "      <th>paterson</th>\n",
       "      <td>passaic</td>\n",
       "      <td>148678</td>\n",
       "      <td>city</td>\n",
       "    </tr>\n",
       "    <tr>\n",
       "      <th>elizabeth</th>\n",
       "      <td>union</td>\n",
       "      <td>130215</td>\n",
       "      <td>city</td>\n",
       "    </tr>\n",
       "    <tr>\n",
       "      <th>edison</th>\n",
       "      <td>middlesex</td>\n",
       "      <td>102450</td>\n",
       "      <td>township</td>\n",
       "    </tr>\n",
       "  </tbody>\n",
       "</table>\n",
       "</div>"
      ],
      "text/plain": [
       "                County  Population      Type\n",
       "Municipal                                   \n",
       "newark           essex      285154      city\n",
       "jersey city     hudson      270753      city\n",
       "paterson       passaic      148678      city\n",
       "elizabeth        union      130215      city\n",
       "edison       middlesex      102450  township"
      ]
     },
     "execution_count": 9,
     "metadata": {},
     "output_type": "execute_result"
    }
   ],
   "source": [
    "df_municipal.head()"
   ]
  },
  {
   "cell_type": "markdown",
   "metadata": {},
   "source": [
    "Functions that print out the historical data information regarding the growth in COVID-19 cases in the specified municipalities."
   ]
  },
  {
   "cell_type": "code",
   "execution_count": 10,
   "metadata": {},
   "outputs": [],
   "source": [
    "def get_graph_for_municipality(municipal):\n",
    "    data = df_historical[df_historical['Municipal']==municipal.lower()]\n",
    "    plt.plot(data['Cases'],linewidth=3)\n",
    "    plt.xticks(np.arange(0,len(data),6))\n",
    "    plt.grid(b=True, color='black',alpha=0.5,linestyle='dashed', linewidth=0.5)\n",
    "    plt.xlabel('Date')\n",
    "    plt.ylabel('Number of Cases')\n",
    "    plt.title('Tracking COVID-19 Cases in {}'.format(municipal))\n",
    "    plt.show()"
   ]
  },
  {
   "cell_type": "code",
   "execution_count": 11,
   "metadata": {},
   "outputs": [],
   "source": [
    "def get_graph_from_municipalities(municipals):\n",
    "    lines = []\n",
    "    data = []\n",
    "    longest = 0\n",
    "    \n",
    "    for municipal in municipals:\n",
    "        curr_data = df_historical[df_historical['Municipal']==municipal.lower()]\n",
    "        line, = plt.plot(curr_data['Cases'],linewidth=3,label=municipal)\n",
    "        \n",
    "        longest = max(longest,len(curr_data))\n",
    "        data.append(curr_data)\n",
    "        lines.append(line)\n",
    "    \n",
    "    plt.legend(handles=lines, loc='upper left')\n",
    "    plt.xticks(np.arange(0,longest,6))\n",
    "    plt.grid(b=True, color='black',alpha=0.5,linestyle='dashed', linewidth=0.5)\n",
    "    plt.xlabel('Date')\n",
    "    plt.ylabel('Number of Cases')\n",
    "    plt.title('Trackling COVID-19 Cases in NJ')\n",
    "    plt.show()"
   ]
  },
  {
   "cell_type": "markdown",
   "metadata": {},
   "source": [
    "Example graphs for the following townships: New Brunswick, South Brunswick, Piscataway, Princeton."
   ]
  },
  {
   "cell_type": "code",
   "execution_count": 12,
   "metadata": {},
   "outputs": [
    {
     "data": {
      "image/png": "[encoded data removed]",
      "text/plain": [
       "<Figure size 432x288 with 1 Axes>"
      ]
     },
     "metadata": {
      "needs_background": "light"
     },
     "output_type": "display_data"
    }
   ],
   "source": [
    "get_graph_for_municipality('New Brunswick')"
   ]
  },
  {
   "cell_type": "code",
   "execution_count": 13,
   "metadata": {},
   "outputs": [
    {
     "data": {
      "image/png": "[encoded data removed]",
      "text/plain": [
       "<Figure size 432x288 with 1 Axes>"
      ]
     },
     "metadata": {
      "needs_background": "light"
     },
     "output_type": "display_data"
    }
   ],
   "source": [
    "central = ['South Brunswick','New Brunswick','Piscataway','Princeton']\n",
    "get_graph_from_municipalities(central)"
   ]
  }
 ],
 "metadata": {
  "kernelspec": {
   "display_name": "Python 3",
   "language": "python",
   "name": "python3"
  },
  "language_info": {
   "codemirror_mode": {
    "name": "ipython",
    "version": 3
   },
   "file_extension": ".py",
   "mimetype": "text/x-python",
   "name": "python",
   "nbconvert_exporter": "python",
   "pygments_lexer": "ipython3",
   "version": "3.7.6"
  }
 },
 "nbformat": 4,
 "nbformat_minor": 4
}
