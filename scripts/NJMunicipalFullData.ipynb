{
 "cells": [
  {
   "cell_type": "markdown",
   "metadata": {},
   "source": [
    "\n",
    "## Getting All of New Jersey's Municipality Names\n",
    "\n",
    "I grabbed and stored all of the New Jersey Municipality Names from this [Wikipedia Article](https://en.wikipedia.org/wiki/List_of_municipalities_in_New_Jersey)\n",
    "and stored it in CSV file named `municpial.csv`. \n",
    "\n",
    "This uses `urllib` to handle https request and grabbing the HTML file rendered by the Wikipedia article. It also uses `BeautifulSoup` to parse through the file to find specific targetted HTML tags necessary. "
   ]
  },
  {
   "cell_type": "code",
   "execution_count": 1,
   "metadata": {},
   "outputs": [],
   "source": [
    "from bs4 import BeautifulSoup\n",
    "from urllib import request, error, parse\n",
    "import pandas as pd\n",
    "import csv, json"
   ]
  },
  {
   "cell_type": "code",
   "execution_count": 2,
   "metadata": {},
   "outputs": [],
   "source": [
    "wiki_nj_municipalities_link = 'https://en.wikipedia.org/wiki/List_of_municipalities_in_New_Jersey'"
   ]
  },
  {
   "cell_type": "code",
   "execution_count": 3,
   "metadata": {},
   "outputs": [],
   "source": [
    "response = request.urlopen(wiki_nj_municipalities_link)\n",
    "nj_municipalities_html = response.read()\n",
    "soup = BeautifulSoup(nj_municipalities_html,'lxml')"
   ]
  },
  {
   "cell_type": "markdown",
   "metadata": {},
   "source": [
    "After inspecting the Wikipedia article entry, to grab all of the municipalities' name, we jave to first grab all of the `<tr>` tags from the variable `soup`."
   ]
  },
  {
   "cell_type": "code",
   "execution_count": 4,
   "metadata": {},
   "outputs": [],
   "source": [
    "nj_municipal_rows = soup.find_all('tr')[1:566]"
   ]
  },
  {
   "cell_type": "markdown",
   "metadata": {},
   "source": [
    "First, we grab each municipal name based on the table column. Then we delete all the trailing whitespaces. Finally, we make every character lowercase for string cleaning purposes."
   ]
  },
  {
   "cell_type": "code",
   "execution_count": 5,
   "metadata": {},
   "outputs": [],
   "source": [
    "def clean_row(row):\n",
    "    row = row.find_all('td')\n",
    "    important = [row[1],row[2],row[4],row[5]]\n",
    "    important = [item.text.strip().lower() for item in important]\n",
    "    important[2] = important[2].replace(',','')\n",
    "    return important"
   ]
  },
  {
   "cell_type": "code",
   "execution_count": 6,
   "metadata": {},
   "outputs": [],
   "source": [
    "nj_municipals_data = list(map(clean_row, nj_municipal_rows))\n",
    "heading = ['Municipal','County','Population','Type']"
   ]
  },
  {
   "cell_type": "markdown",
   "metadata": {},
   "source": [
    "Lastly, we load the data into a CSV file named `municpial.csv` with the appropriate headings. "
   ]
  },
  {
   "cell_type": "code",
   "execution_count": 7,
   "metadata": {},
   "outputs": [],
   "source": [
    "with open('../data/municipal.csv', 'w+', newline='') as file:\n",
    "    writer = csv.writer(file)\n",
    "    writer.writerow(heading)\n",
    "    writer.writerows(nj_municipals_data)"
   ]
  },
  {
   "cell_type": "markdown",
   "metadata": {},
   "source": [
    "Converting the CSV file into a dataframe to organize the list of municipals for data parsing from NJ.com."
   ]
  },
  {
   "cell_type": "code",
   "execution_count": 8,
   "metadata": {},
   "outputs": [],
   "source": [
    "new_municipals = pd.read_csv('../data/municipal.csv')"
   ]
  },
  {
   "cell_type": "markdown",
   "metadata": {},
   "source": [
    "Dropping the irrelevant columns from the dataframe."
   ]
  },
  {
   "cell_type": "code",
   "execution_count": 9,
   "metadata": {},
   "outputs": [
    {
     "data": {
      "text/html": [
       "<div>\n",
       "<style scoped>\n",
       "    .dataframe tbody tr th:only-of-type {\n",
       "        vertical-align: middle;\n",
       "    }\n",
       "\n",
       "    .dataframe tbody tr th {\n",
       "        vertical-align: top;\n",
       "    }\n",
       "\n",
       "    .dataframe thead th {\n",
       "        text-align: right;\n",
       "    }\n",
       "</style>\n",
       "<table border=\"1\" class=\"dataframe\">\n",
       "  <thead>\n",
       "    <tr style=\"text-align: right;\">\n",
       "      <th></th>\n",
       "      <th>Municipal</th>\n",
       "      <th>County</th>\n",
       "    </tr>\n",
       "  </thead>\n",
       "  <tbody>\n",
       "    <tr>\n",
       "      <th>0</th>\n",
       "      <td>newark</td>\n",
       "      <td>essex</td>\n",
       "    </tr>\n",
       "    <tr>\n",
       "      <th>1</th>\n",
       "      <td>jersey city</td>\n",
       "      <td>hudson</td>\n",
       "    </tr>\n",
       "    <tr>\n",
       "      <th>2</th>\n",
       "      <td>paterson</td>\n",
       "      <td>passaic</td>\n",
       "    </tr>\n",
       "    <tr>\n",
       "      <th>3</th>\n",
       "      <td>elizabeth</td>\n",
       "      <td>union</td>\n",
       "    </tr>\n",
       "    <tr>\n",
       "      <th>4</th>\n",
       "      <td>edison</td>\n",
       "      <td>middlesex</td>\n",
       "    </tr>\n",
       "  </tbody>\n",
       "</table>\n",
       "</div>"
      ],
      "text/plain": [
       "     Municipal     County\n",
       "0       newark      essex\n",
       "1  jersey city     hudson\n",
       "2     paterson    passaic\n",
       "3    elizabeth      union\n",
       "4       edison  middlesex"
      ]
     },
     "execution_count": 9,
     "metadata": {},
     "output_type": "execute_result"
    }
   ],
   "source": [
    "new_municipals = new_municipals.drop(columns=['Population','Type'])\n",
    "new_municipals.head()"
   ]
  },
  {
   "cell_type": "code",
   "execution_count": 10,
   "metadata": {},
   "outputs": [],
   "source": [
    "counties = set(new_municipals['County'])"
   ]
  },
  {
   "cell_type": "markdown",
   "metadata": {},
   "source": [
    "Storing the data in a dictionary format where the keys are counties and the values are a list of municipalities to avoid duplicates."
   ]
  },
  {
   "cell_type": "code",
   "execution_count": 11,
   "metadata": {},
   "outputs": [],
   "source": [
    "to_county = {}\n",
    "for county in counties:\n",
    "    curr_county = new_municipals[new_municipals['County'] == county].copy()\n",
    "    county_to_municipal = {c:False for c in curr_county['Municipal']}\n",
    "    to_county[county + ' county'] = county_to_municipal"
   ]
  },
  {
   "cell_type": "markdown",
   "metadata": {},
   "source": [
    "Converting the dictionary to a JSON to help remove duplicate municipality names."
   ]
  },
  {
   "cell_type": "code",
   "execution_count": 12,
   "metadata": {},
   "outputs": [],
   "source": [
    "with open('../data/nj_municipals.json', 'w') as datafile:\n",
    "    json.dump(to_county,datafile)"
   ]
  }
 ],
 "metadata": {
  "kernelspec": {
   "display_name": "Python 3",
   "language": "python",
   "name": "python3"
  },
  "language_info": {
   "codemirror_mode": {
    "name": "ipython",
    "version": 3
   },
   "file_extension": ".py",
   "mimetype": "text/x-python",
   "name": "python",
   "nbconvert_exporter": "python",
   "pygments_lexer": "ipython3",
   "version": "3.7.6"
  }
 },
 "nbformat": 4,
 "nbformat_minor": 4
}
