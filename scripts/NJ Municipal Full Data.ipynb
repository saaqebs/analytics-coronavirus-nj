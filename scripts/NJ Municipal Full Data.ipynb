{
 "cells": [
  {
   "cell_type": "markdown",
   "metadata": {},
   "source": [
    "\n",
    "## Getting All of New Jersey's Municipality Names\n",
    "\n",
    "I grabbed and stored all of the New Jersey Municipality Names from this [Wikipedia Article](https://en.wikipedia.org/wiki/List_of_municipalities_in_New_Jersey)\n",
    "and stored it in text file named `nj_municipals.txt`. \n",
    "\n",
    "This uses `urllib` to handle https request and grabbing the HTML file rendered by the Wikipedia article. It also uses `BeautifulSoup` to parse through the file to find specific targetted HTML tags necessary. "
   ]
  },
  {
   "cell_type": "code",
   "execution_count": 1,
   "metadata": {},
   "outputs": [],
   "source": [
    "from bs4 import BeautifulSoup\n",
    "from urllib import request, error, parse\n",
    "import csv"
   ]
  },
  {
   "cell_type": "code",
   "execution_count": 2,
   "metadata": {},
   "outputs": [],
   "source": [
    "wiki_nj_municipalities_link = 'https://en.wikipedia.org/wiki/List_of_municipalities_in_New_Jersey'"
   ]
  },
  {
   "cell_type": "code",
   "execution_count": 3,
   "metadata": {},
   "outputs": [],
   "source": [
    "response = request.urlopen(wiki_nj_municipalities_link)\n",
    "nj_municipalities_html = response.read()\n",
    "soup = BeautifulSoup(nj_municipalities_html,'lxml')"
   ]
  },
  {
   "cell_type": "markdown",
   "metadata": {},
   "source": [
    "After inspecting the Wikipedia article entry, to grab all of the municipalities' name, we jave to first grab all of the `<tr>` tags from the variable `soup`."
   ]
  },
  {
   "cell_type": "code",
   "execution_count": 4,
   "metadata": {},
   "outputs": [],
   "source": [
    "nj_municipal_rows = soup.find_all('tr')[1:566]"
   ]
  },
  {
   "cell_type": "markdown",
   "metadata": {},
   "source": [
    "First, we grab each municipal name based on the table column. Then we delete all the trailing whitespaces. Finally, we make every character lowercase for string cleaning purposes."
   ]
  },
  {
   "cell_type": "code",
   "execution_count": 5,
   "metadata": {},
   "outputs": [],
   "source": [
    "def clean_row(row):\n",
    "    row = row.find_all('td')\n",
    "    important = [row[1],row[2],row[4],row[5]]\n",
    "    important = [item.text.strip().lower() for item in important]\n",
    "    important[2] = important[2].replace(',','')\n",
    "    return important"
   ]
  },
  {
   "cell_type": "code",
   "execution_count": 6,
   "metadata": {},
   "outputs": [],
   "source": [
    "nj_municipals_data = list(map(clean_row, nj_municipal_rows))\n",
    "heading = ['Municipal','County','Population','Type']"
   ]
  },
  {
   "cell_type": "markdown",
   "metadata": {},
   "source": [
    "Lastly, we load the data into a CSV file named `municpial.csv` with the appropriate headings. "
   ]
  },
  {
   "cell_type": "code",
   "execution_count": 7,
   "metadata": {},
   "outputs": [],
   "source": [
    "with open('data/municipal.csv', 'w+', newline='') as file:\n",
    "    writer = csv.writer(file)\n",
    "    writer.writerow(heading)\n",
    "    writer.writerows(nj_municipals_data)"
   ]
  }
 ],
 "metadata": {
  "kernelspec": {
   "display_name": "Python 3",
   "language": "python",
   "name": "python3"
  },
  "language_info": {
   "codemirror_mode": {
    "name": "ipython",
    "version": 3
   },
   "file_extension": ".py",
   "mimetype": "text/x-python",
   "name": "python",
   "nbconvert_exporter": "python",
   "pygments_lexer": "ipython3",
   "version": "3.7.6"
  }
 },
 "nbformat": 4,
 "nbformat_minor": 4
}
